{
 "cells": [
  {
   "cell_type": "code",
   "execution_count": 14,
   "id": "5e09651a",
   "metadata": {},
   "outputs": [],
   "source": [
    "import matplotlib.pyplot as plt\n",
    "import h5py\n",
    "import numpy as np"
   ]
  },
  {
   "cell_type": "code",
   "execution_count": 27,
   "id": "ee04e315",
   "metadata": {},
   "outputs": [],
   "source": [
    "def read_hdf5_file(file_path):\n",
    "    with h5py.File(file_path, 'r') as f:\n",
    "        rho = np.array(f['/rho'])\n",
    "        P = np.array(f['/P'])\n",
    "        #T = np.array(f['/T'])\n",
    "        z = np.array(f['/z'])\n",
    "\n",
    "    return rho, P, z\n",
    "\n",
    "# Use the function\n",
    "rho, P, z = read_hdf5_file(\"../snapshots/snap0.h5\")\n",
    "\n",
    "# Now rho, P, T, z are numpy arrays that you can use in your program"
   ]
  },
  {
   "cell_type": "code",
   "execution_count": 29,
   "id": "0545e2a5",
   "metadata": {},
   "outputs": [
    {
     "data": {
      "text/plain": [
       "<matplotlib.colorbar.Colorbar at 0x10fa02190>"
      ]
     },
     "execution_count": 29,
     "metadata": {},
     "output_type": "execute_result"
    },
    {
     "data": {
      "image/png": "[encoded data removed]",
      "text/plain": [
       "<Figure size 640x480 with 2 Axes>"
      ]
     },
     "metadata": {},
     "output_type": "display_data"
    }
   ],
   "source": [
    "plt.imshow(np.mean(rho, axis=1), origin=\"lower\")\n",
    "plt.colorbar()"
   ]
  },
  {
   "cell_type": "code",
   "execution_count": 24,
   "id": "9232aa52",
   "metadata": {},
   "outputs": [
    {
     "data": {
      "text/plain": [
       "0.04"
      ]
     },
     "execution_count": 24,
     "metadata": {},
     "output_type": "execute_result"
    }
   ],
   "source": [
    "500*100*100*8/10**9"
   ]
  },
  {
   "cell_type": "code",
   "execution_count": null,
   "id": "8621b217",
   "metadata": {},
   "outputs": [],
   "source": []
  }
 ],
 "metadata": {
  "kernelspec": {
   "display_name": "Python 3 (ipykernel)",
   "language": "python",
   "name": "python3"
  },
  "language_info": {
   "codemirror_mode": {
    "name": "ipython",
    "version": 3
   },
   "file_extension": ".py",
   "mimetype": "text/x-python",
   "name": "python",
   "nbconvert_exporter": "python",
   "pygments_lexer": "ipython3",
   "version": "3.11.3"
  }
 },
 "nbformat": 4,
 "nbformat_minor": 5
}
